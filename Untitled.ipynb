{
 "cells": [
  {
   "cell_type": "code",
   "execution_count": 2,
   "metadata": {
    "collapsed": true
   },
   "outputs": [],
   "source": [
    "##Loading all the CSV files to this notebook## "
   ]
  },
  {
   "cell_type": "code",
   "execution_count": 14,
   "metadata": {
    "collapsed": false
   },
   "outputs": [],
   "source": [
    "import pandas as pd\n",
    "import csv\n",
    "\n",
    "\n",
    "R158_indM = pd.read_csv(\"16_158_AllIndDiff_M.csv\")\n",
    "R158_indS = pd.read_csv(\"16_158_AllIndDiff_S.csv\")\n",
    "R158_indT = pd.read_csv(\"16_158_AllIndDiff_T.csv\")\n",
    "R158_indBG2 = pd.read_csv(\"16_158_AllIndDiff_BG2.csv\")\n",
    "\n",
    "R158_indT.describe()\n",
    "\n",
    "R159_indM = pd.read_csv(\"16_159_AllIndDiff_M.csv\")\n",
    "R159_indS = pd.read_csv(\"16_159_AllIndDiff_S.csv\")\n",
    "R159_indT = pd.read_csv(\"16_159_AllIndDiff_T.csv\")\n",
    "R159_indBG2 = pd.read_csv(\"16_159_AllIndDiff_BG2.csv\")\n",
    "\n",
    "R160_indM = pd.read_csv(\"16_160_AllIndDiff_M.csv\")\n",
    "R160_indS = pd.read_csv(\"16_160_AllIndDiff_S.csv\")\n",
    "R160_indT = pd.read_csv(\"16_160_AllIndDiff_T.csv\")\n",
    "R160_indBG2 = pd.read_csv(\"16_160_AllIndDiff_BG2.csv\")\n"
   ]
  },
  {
   "cell_type": "code",
   "execution_count": null,
   "metadata": {
    "collapsed": true
   },
   "outputs": [],
   "source": []
  }
 ],
 "metadata": {
  "kernelspec": {
   "display_name": "Python [Root]",
   "language": "python",
   "name": "Python [Root]"
  },
  "language_info": {
   "codemirror_mode": {
    "name": "ipython",
    "version": 3
   },
   "file_extension": ".py",
   "mimetype": "text/x-python",
   "name": "python",
   "nbconvert_exporter": "python",
   "pygments_lexer": "ipython3",
   "version": "3.5.2"
  }
 },
 "nbformat": 4,
 "nbformat_minor": 0
}
